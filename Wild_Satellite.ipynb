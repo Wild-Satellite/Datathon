{
  "nbformat": 4,
  "nbformat_minor": 0,
  "metadata": {
    "colab": {
      "name": "Wild Satellite.ipynb",
      "provenance": [],
      "collapsed_sections": [],
      "include_colab_link": true
    },
    "kernelspec": {
      "name": "python3",
      "display_name": "Python 3"
    },
    "language_info": {
      "name": "python"
    }
  },
  "cells": [
    {
      "cell_type": "markdown",
      "metadata": {
        "id": "view-in-github",
        "colab_type": "text"
      },
      "source": [
        "<a href=\"https://colab.research.google.com/github/MaximePaul0/Datathon/blob/main/Wild_Satellite.ipynb\" target=\"_parent\"><img src=\"https://colab.research.google.com/assets/colab-badge.svg\" alt=\"Open In Colab\"/></a>"
      ]
    },
    {
      "cell_type": "markdown",
      "metadata": {
        "id": "1_x7ChM8UIZW"
      },
      "source": [
        "## Import des modules"
      ]
    },
    {
      "cell_type": "code",
      "metadata": {
        "id": "rur1DyHFTh8N"
      },
      "source": [
        "#data viz\n",
        "import matplotlib.pyplot as plt\n",
        "import seaborn as sns\n",
        "import plotly.express as px \n",
        "import plotly.graph_objects as go\n",
        "\n",
        "#preprocess\n",
        "import pandas as pd\n",
        "import numpy as np\n",
        "from sklearn.preprocessing import LabelEncoder\n",
        "from sklearn.preprocessing import StandardScaler\n",
        "from sklearn.utils import resample\n",
        "from sklearn.model_selection import train_test_split\n",
        "\n",
        "#models\n",
        "from sklearn.linear_model import LogisticRegression\n",
        "from sklearn.tree import DecisionTreeClassifier\n",
        "from sklearn.neighbors import KNeighborsClassifier\n",
        "\n",
        "#metrics \n",
        "from sklearn.metrics import classification_report\n",
        "from sklearn.metrics import roc_curve\n",
        "from sklearn.metrics import f1_score, precision_score,recall_score\n",
        "from sklearn.metrics import roc_auc_score\n",
        "from sklearn.metrics import accuracy_score, confusion_matrix\n",
        "from sklearn.metrics import mean_squared_error\n",
        "from sklearn.model_selection import cross_val_score\n",
        "from sklearn.model_selection import GridSearchCV\n",
        "\n",
        "#autres:\n",
        "import time\n",
        "import math as m\n",
        "from scipy.spatial import distance\n",
        "from google.colab import drive"
      ],
      "execution_count": 1,
      "outputs": []
    },
    {
      "cell_type": "code",
      "metadata": {
        "colab": {
          "base_uri": "https://localhost:8080/"
        },
        "id": "uUXxXQdEWX12",
        "outputId": "90a01235-1158-4e32-e52f-411398624606"
      },
      "source": [
        "drive.mount('/content/drive')"
      ],
      "execution_count": null,
      "outputs": [
        {
          "output_type": "stream",
          "text": [
            "Mounted at /content/drive\n"
          ],
          "name": "stdout"
        }
      ]
    },
    {
      "cell_type": "markdown",
      "metadata": {
        "id": "JYxvO3XvUMiE"
      },
      "source": [
        "## Import - Lecture des CSV"
      ]
    },
    {
      "cell_type": "code",
      "metadata": {
        "id": "VCQ2dE7iULVg"
      },
      "source": [
        "link_disco = 'https://raw.githubusercontent.com/Wild-Satellite/Datathon/main/CSV/datathon_kiwi.csv'"
      ],
      "execution_count": null,
      "outputs": []
    },
    {
      "cell_type": "code",
      "metadata": {
        "id": "bwqTCqyhtImT"
      },
      "source": [
        "link_satcat = 'https://raw.githubusercontent.com/Wild-Satellite/Datathon/main/CSV/SatCat.csv'"
      ],
      "execution_count": null,
      "outputs": []
    },
    {
      "cell_type": "code",
      "metadata": {
        "id": "fUy4m9tP6Ap5"
      },
      "source": [
        "link_UCS = 'https://raw.githubusercontent.com/Wild-Satellite/Datathon/main/CSV/UCS.csv'"
      ],
      "execution_count": null,
      "outputs": []
    },
    {
      "cell_type": "code",
      "metadata": {
        "id": "e0E05SWgM_W6"
      },
      "source": [
        "link_global = 'https://raw.githubusercontent.com/Wild-Satellite/Datathon/main/CSV/DisUCS.csv'"
      ],
      "execution_count": null,
      "outputs": []
    },
    {
      "cell_type": "markdown",
      "metadata": {
        "id": "CxFUXuP6tV3U"
      },
      "source": [
        "### DF SatCat"
      ]
    },
    {
      "cell_type": "code",
      "metadata": {
        "id": "rzJ8mzvitMuO"
      },
      "source": [
        "DF_satcat = pd.read_csv('https://raw.githubusercontent.com/Wild-Satellite/Datathon/main/CSV/SatCat.csv')"
      ],
      "execution_count": null,
      "outputs": []
    },
    {
      "cell_type": "code",
      "metadata": {
        "id": "89M0vH3aya6y"
      },
      "source": [
        "DF_disco = pd.read_csv(link_disco)"
      ],
      "execution_count": null,
      "outputs": []
    },
    {
      "cell_type": "code",
      "metadata": {
        "id": "-Y47b-l267ED"
      },
      "source": [
        "DF_UCS = pd.read_csv(link_UCS)"
      ],
      "execution_count": null,
      "outputs": []
    },
    {
      "cell_type": "code",
      "metadata": {
        "id": "EVL-PAZsNINX"
      },
      "source": [
        "DF_UCS_global = pd.read_csv(link_global)"
      ],
      "execution_count": null,
      "outputs": []
    },
    {
      "cell_type": "code",
      "metadata": {
        "id": "Ll1rohhgwPPY"
      },
      "source": [
        "DF_satcat"
      ],
      "execution_count": null,
      "outputs": []
    },
    {
      "cell_type": "code",
      "metadata": {
        "id": "0_hLhq9ax3fT"
      },
      "source": [
        "DF_disco"
      ],
      "execution_count": null,
      "outputs": []
    },
    {
      "cell_type": "code",
      "metadata": {
        "id": "0WRIaAYE048T"
      },
      "source": [
        "DF_disco[DF_disco['name'].isna()]"
      ],
      "execution_count": null,
      "outputs": []
    },
    {
      "cell_type": "code",
      "metadata": {
        "id": "2TFj-oti2rYE"
      },
      "source": [
        "DF_satcat.columns"
      ],
      "execution_count": null,
      "outputs": []
    },
    {
      "cell_type": "code",
      "metadata": {
        "id": "9Fiwjk2_5GD7"
      },
      "source": [
        "DF_satcat['OpOrbit'].value_counts()"
      ],
      "execution_count": null,
      "outputs": []
    },
    {
      "cell_type": "code",
      "metadata": {
        "id": "Rg5G1KaC5buX"
      },
      "source": [
        "DF_satcat['Owner'].value_counts()"
      ],
      "execution_count": null,
      "outputs": []
    },
    {
      "cell_type": "code",
      "metadata": {
        "id": "cT-t0lVR5jlB"
      },
      "source": [
        "DF_satcat['State'].value_counts()"
      ],
      "execution_count": null,
      "outputs": []
    },
    {
      "cell_type": "code",
      "metadata": {
        "id": "2zu5n7hT7Le4"
      },
      "source": [
        "DF_UCS"
      ],
      "execution_count": null,
      "outputs": []
    },
    {
      "cell_type": "code",
      "metadata": {
        "id": "40R6-LCLKxuV"
      },
      "source": [
        "DF_UCS['Purpose'].value_counts()"
      ],
      "execution_count": null,
      "outputs": []
    },
    {
      "cell_type": "code",
      "metadata": {
        "colab": {
          "base_uri": "https://localhost:8080/"
        },
        "id": "a5MYyIDnK5mU",
        "outputId": "0b094252-db33-43c1-a9c5-455c968d4ff7"
      },
      "source": [
        "print('Nb Observations ayant un purpose:',DF_UCS['Purpose'].value_counts().sum())\n",
        "print('Nb Observations ayant un detailed purpose:',DF_UCS['Detailed Purpose'].value_counts().sum())\n",
        "\n",
        "print('\\nPurposes possibles:\\n',DF_UCS['Purpose'].value_counts())\n",
        "print('\\n\\n\\nDetailed Purposes possibles:\\n',DF_UCS['Detailed Purpose'].value_counts())"
      ],
      "execution_count": null,
      "outputs": [
        {
          "output_type": "stream",
          "text": [
            "Nb Observations ayant un purpose:  3372\n",
            "Nb Observations ayant un detailed purpose:  916\n",
            "\n",
            "Purposes possibles:\n",
            " Communications                                    1819\n",
            "Earth Observation                                  890\n",
            "Technology Development                             328\n",
            "Navigation/Global Positioning                      138\n",
            "Space Science                                       94\n",
            "Technology Demonstration                            17\n",
            "Earth Science                                       17\n",
            "Navigation/Regional Positioning                     12\n",
            "Space Observation                                    8\n",
            "Earth Observation/Technology Development             7\n",
            "Communications/Technology Development                7\n",
            "Unknown                                              5\n",
            "Communications/Maritime Tracking                     5\n",
            "Earth Observation                                    4\n",
            "Technology Development/Educational                   3\n",
            "Surveillance                                         3\n",
            "Earth/Space Observation                              2\n",
            "Educational                                          2\n",
            "Earth Observation/Communications                     2\n",
            "Mission Extension Technology                         2\n",
            "Space Science/Technology Demonstration               1\n",
            "Earth Observation/Communications/Space Science       1\n",
            "Earth Observation/Space Science                      1\n",
            "Communications/Navigation                            1\n",
            "Space Science/Technology Development                 1\n",
            "Earth Science/Earth Observation                      1\n",
            "Earth Observation/Earth Science                      1\n",
            "Name: Purpose, dtype: int64\n",
            "\n",
            "\n",
            "\n",
            "Detailed Purposes possibles:\n",
            " Optical Imaging                                          382\n",
            "Meteorology, Automatic Identification System (AIS)       105\n",
            "Electronic Intelligence                                   86\n",
            "Radar Imaging                                             67\n",
            "Earth Science                                             57\n",
            "Meteorology                                               43\n",
            "Automatic Identification System (AIS)                     33\n",
            "Earth Science/Meterology                                  18\n",
            "Hyperspectral Imaging                                     17\n",
            "Multi-Spectral Imaging                                    12\n",
            "Internet of Things (IoT)                                  11\n",
            "Multi-spectral Imaging                                    11\n",
            "Infrared Imaging                                          10\n",
            "Radar Imaging/Earth Science                                8\n",
            "Data Relay                                                 7\n",
            "Video Imaging                                              7\n",
            "Amateur Radio                                              5\n",
            "Imaging                                                    4\n",
            "Early Warning                                              4\n",
            "Technology Development                                     4\n",
            "Radio Frequency Monitoring                                 4\n",
            "Optical Imaging/Automatic Identification System (AIS)      3\n",
            "Optical Imaging/Meterology                                 3\n",
            "Meteorology/Earth Science                                  3\n",
            "Optical Imaging (video)                                    2\n",
            "Optical Imaging                                            1\n",
            "Optical/Video Imaging                                      1\n",
            "Laser Imaging                                              1\n",
            "X-ray Astronomy                                            1\n",
            "ADS-B Receiver                                             1\n",
            "Optical Imaging/Meteorology                                1\n",
            "Infra-Red Imaging                                          1\n",
            "Optical Imaging/Infrared Imaging                           1\n",
            "Maritime Surveillance                                      1\n",
            "Optical Stereo Imaging                                     1\n",
            "Name: Detailed Purpose, dtype: int64\n"
          ],
          "name": "stdout"
        }
      ]
    },
    {
      "cell_type": "code",
      "metadata": {
        "id": "E30Lo9JyNUNG"
      },
      "source": [
        ""
      ],
      "execution_count": null,
      "outputs": []
    },
    {
      "cell_type": "code",
      "metadata": {
        "colab": {
          "base_uri": "https://localhost:8080/",
          "height": 1000
        },
        "id": "k4dRD3BzNTji",
        "outputId": "03171ac6-08d4-49bd-aa3f-462315474fcc"
      },
      "source": [
        "DF_UCS_global"
      ],
      "execution_count": null,
      "outputs": [
        {
          "output_type": "execute_result",
          "data": {
            "text/html": [
              "<div>\n",
              "<style scoped>\n",
              "    .dataframe tbody tr th:only-of-type {\n",
              "        vertical-align: middle;\n",
              "    }\n",
              "\n",
              "    .dataframe tbody tr th {\n",
              "        vertical-align: top;\n",
              "    }\n",
              "\n",
              "    .dataframe thead th {\n",
              "        text-align: right;\n",
              "    }\n",
              "</style>\n",
              "<table border=\"1\" class=\"dataframe\">\n",
              "  <thead>\n",
              "    <tr style=\"text-align: right;\">\n",
              "      <th></th>\n",
              "      <th>Unnamed: 0</th>\n",
              "      <th>id</th>\n",
              "      <th>name</th>\n",
              "      <th>satno</th>\n",
              "      <th>cospar id</th>\n",
              "      <th>object class</th>\n",
              "      <th>mass(kg)</th>\n",
              "      <th>shape</th>\n",
              "      <th>length(m)</th>\n",
              "      <th>height(m)</th>\n",
              "      <th>depth(m)</th>\n",
              "      <th>re-entry epoch</th>\n",
              "      <th>max cross section (m2)</th>\n",
              "      <th>min cross section (m2)</th>\n",
              "      <th>avg cross section (m2)</th>\n",
              "      <th>Name of Satellite, Alternate Names</th>\n",
              "      <th>Current Official Name of Satellite</th>\n",
              "      <th>Country/Org of UN Registry</th>\n",
              "      <th>Country of Operator/Owner</th>\n",
              "      <th>Operator/Owner</th>\n",
              "      <th>Users</th>\n",
              "      <th>Purpose</th>\n",
              "      <th>Detailed Purpose</th>\n",
              "      <th>Class of Orbit</th>\n",
              "      <th>Type of Orbit</th>\n",
              "      <th>Longitude of GEO (degrees)</th>\n",
              "      <th>Perigee (km)</th>\n",
              "      <th>Apogee (km)</th>\n",
              "      <th>Eccentricity</th>\n",
              "      <th>Inclination (degrees)</th>\n",
              "      <th>Period (minutes)</th>\n",
              "      <th>Launch Mass (kg.)</th>\n",
              "      <th>Dry Mass (kg.)</th>\n",
              "      <th>Power (watts)</th>\n",
              "      <th>Date of Launch</th>\n",
              "      <th>Expected Lifetime (yrs.)</th>\n",
              "      <th>Contractor</th>\n",
              "      <th>Country of Contractor</th>\n",
              "      <th>Launch Site</th>\n",
              "      <th>Launch Vehicle</th>\n",
              "      <th>COSPAR Number</th>\n",
              "      <th>NORAD Number</th>\n",
              "      <th>Comments</th>\n",
              "    </tr>\n",
              "  </thead>\n",
              "  <tbody>\n",
              "    <tr>\n",
              "      <th>0</th>\n",
              "      <td>0</td>\n",
              "      <td>61956.0</td>\n",
              "      <td>1HOPSat</td>\n",
              "      <td>44859.0</td>\n",
              "      <td>2019-089H</td>\n",
              "      <td>Payload</td>\n",
              "      <td>22.0</td>\n",
              "      <td>Box</td>\n",
              "      <td>0.2</td>\n",
              "      <td>0.3</td>\n",
              "      <td>0.3</td>\n",
              "      <td>NaN</td>\n",
              "      <td>0.093808</td>\n",
              "      <td>0.04</td>\n",
              "      <td>0.080000</td>\n",
              "      <td>1HOPSAT-TD (1st-generation High Optical Perfor...</td>\n",
              "      <td>1HOPSAT</td>\n",
              "      <td>NR (12/20)</td>\n",
              "      <td>USA</td>\n",
              "      <td>Hera Systems</td>\n",
              "      <td>Commercial</td>\n",
              "      <td>Earth Observation</td>\n",
              "      <td>Technology Development</td>\n",
              "      <td>LEO</td>\n",
              "      <td>Non-Polar Inclined</td>\n",
              "      <td>0.0</td>\n",
              "      <td>566</td>\n",
              "      <td>576</td>\n",
              "      <td>0.000720</td>\n",
              "      <td>36.90</td>\n",
              "      <td>96.08</td>\n",
              "      <td>22.0</td>\n",
              "      <td>NaN</td>\n",
              "      <td>NaN</td>\n",
              "      <td>2019-12-11</td>\n",
              "      <td>0.5</td>\n",
              "      <td>Hera Systems</td>\n",
              "      <td>USA</td>\n",
              "      <td>Satish Dhawan Space Centre</td>\n",
              "      <td>PSLV</td>\n",
              "      <td>2019-089H</td>\n",
              "      <td>44859</td>\n",
              "      <td>Pathfinder for planned earth observation const...</td>\n",
              "    </tr>\n",
              "    <tr>\n",
              "      <th>1</th>\n",
              "      <td>1</td>\n",
              "      <td>57452.0</td>\n",
              "      <td>3Cat-1</td>\n",
              "      <td>43728.0</td>\n",
              "      <td>2018-096K</td>\n",
              "      <td>Payload</td>\n",
              "      <td>1.0</td>\n",
              "      <td>Box</td>\n",
              "      <td>0.1</td>\n",
              "      <td>0.1</td>\n",
              "      <td>0.1</td>\n",
              "      <td>NaN</td>\n",
              "      <td>0.017321</td>\n",
              "      <td>0.01</td>\n",
              "      <td>0.015000</td>\n",
              "      <td>3Cat-1</td>\n",
              "      <td>3Cat-1</td>\n",
              "      <td>NR</td>\n",
              "      <td>Spain</td>\n",
              "      <td>Universitat Politècnica de Catalunya</td>\n",
              "      <td>Civil</td>\n",
              "      <td>Technology Development</td>\n",
              "      <td>NaN</td>\n",
              "      <td>LEO</td>\n",
              "      <td>NaN</td>\n",
              "      <td>0.0</td>\n",
              "      <td>476</td>\n",
              "      <td>500</td>\n",
              "      <td>0.001750</td>\n",
              "      <td>97.40</td>\n",
              "      <td>95.00</td>\n",
              "      <td>4.0</td>\n",
              "      <td>NaN</td>\n",
              "      <td>NaN</td>\n",
              "      <td>2018-11-29</td>\n",
              "      <td>NaN</td>\n",
              "      <td>Universitat Politècnica de Catalunya</td>\n",
              "      <td>Spain</td>\n",
              "      <td>Satish Dhawan Space Centre</td>\n",
              "      <td>PSLV</td>\n",
              "      <td>2018-096K</td>\n",
              "      <td>43728</td>\n",
              "      <td>Student built.</td>\n",
              "    </tr>\n",
              "    <tr>\n",
              "      <th>2</th>\n",
              "      <td>2</td>\n",
              "      <td>NaN</td>\n",
              "      <td>NaN</td>\n",
              "      <td>NaN</td>\n",
              "      <td>NaN</td>\n",
              "      <td>NaN</td>\n",
              "      <td>NaN</td>\n",
              "      <td>NaN</td>\n",
              "      <td>NaN</td>\n",
              "      <td>NaN</td>\n",
              "      <td>NaN</td>\n",
              "      <td>NaN</td>\n",
              "      <td>NaN</td>\n",
              "      <td>NaN</td>\n",
              "      <td>NaN</td>\n",
              "      <td>Aalto-1</td>\n",
              "      <td>Aalto-1</td>\n",
              "      <td>Finland</td>\n",
              "      <td>Finland</td>\n",
              "      <td>Aalto University</td>\n",
              "      <td>Civil</td>\n",
              "      <td>Technology Development</td>\n",
              "      <td>NaN</td>\n",
              "      <td>LEO</td>\n",
              "      <td>NaN</td>\n",
              "      <td>0.0</td>\n",
              "      <td>497</td>\n",
              "      <td>517</td>\n",
              "      <td>0.001454</td>\n",
              "      <td>97.45</td>\n",
              "      <td>94.70</td>\n",
              "      <td>4.5</td>\n",
              "      <td>NaN</td>\n",
              "      <td>4.5</td>\n",
              "      <td>2017-06-23</td>\n",
              "      <td>2.0</td>\n",
              "      <td>Aalto University</td>\n",
              "      <td>Finland</td>\n",
              "      <td>Satish Dhawan Space Centre</td>\n",
              "      <td>PSLV</td>\n",
              "      <td>2017-036L</td>\n",
              "      <td>42775</td>\n",
              "      <td>Technology development and education.</td>\n",
              "    </tr>\n",
              "    <tr>\n",
              "      <th>3</th>\n",
              "      <td>3</td>\n",
              "      <td>41457.0</td>\n",
              "      <td>AAUSAT-4</td>\n",
              "      <td>41460.0</td>\n",
              "      <td>2016-025E</td>\n",
              "      <td>Payload</td>\n",
              "      <td>1.0</td>\n",
              "      <td>Box</td>\n",
              "      <td>0.1</td>\n",
              "      <td>0.1</td>\n",
              "      <td>0.1</td>\n",
              "      <td>NaN</td>\n",
              "      <td>0.017321</td>\n",
              "      <td>0.01</td>\n",
              "      <td>0.015000</td>\n",
              "      <td>AAUSat-4</td>\n",
              "      <td>AAUSat-4</td>\n",
              "      <td>Denmark</td>\n",
              "      <td>Denmark</td>\n",
              "      <td>University of Aalborg</td>\n",
              "      <td>Civil</td>\n",
              "      <td>Earth Observation</td>\n",
              "      <td>Automatic Identification System (AIS)</td>\n",
              "      <td>LEO</td>\n",
              "      <td>Sun-Synchronous</td>\n",
              "      <td>0.0</td>\n",
              "      <td>442</td>\n",
              "      <td>687</td>\n",
              "      <td>0.017665</td>\n",
              "      <td>98.20</td>\n",
              "      <td>95.90</td>\n",
              "      <td>1.0</td>\n",
              "      <td>NaN</td>\n",
              "      <td>NaN</td>\n",
              "      <td>2016-04-25</td>\n",
              "      <td>NaN</td>\n",
              "      <td>University of Aalborg</td>\n",
              "      <td>Denmark</td>\n",
              "      <td>Guiana Space Center</td>\n",
              "      <td>Soyuz 2.1a</td>\n",
              "      <td>2016-025E</td>\n",
              "      <td>41460</td>\n",
              "      <td>Carries AIS system.</td>\n",
              "    </tr>\n",
              "    <tr>\n",
              "      <th>4</th>\n",
              "      <td>4</td>\n",
              "      <td>39505.0</td>\n",
              "      <td>ABS 2 (ST 3, Koreasat 8)</td>\n",
              "      <td>39508.0</td>\n",
              "      <td>2014-006A</td>\n",
              "      <td>Payload</td>\n",
              "      <td>6330.0</td>\n",
              "      <td>Box + 2 Pan</td>\n",
              "      <td>3.5</td>\n",
              "      <td>8.3</td>\n",
              "      <td>26.0</td>\n",
              "      <td>NaN</td>\n",
              "      <td>105.870784</td>\n",
              "      <td>12.25</td>\n",
              "      <td>56.268667</td>\n",
              "      <td>ABS-2 (Koreasat-8, ST-3)</td>\n",
              "      <td>ABS-2</td>\n",
              "      <td>NR</td>\n",
              "      <td>Multinational</td>\n",
              "      <td>Asia Broadcast Satellite Ltd.</td>\n",
              "      <td>Commercial</td>\n",
              "      <td>Communications</td>\n",
              "      <td>NaN</td>\n",
              "      <td>GEO</td>\n",
              "      <td>NaN</td>\n",
              "      <td>75.0</td>\n",
              "      <td>35778</td>\n",
              "      <td>35793</td>\n",
              "      <td>0.000178</td>\n",
              "      <td>0.08</td>\n",
              "      <td>1436.03</td>\n",
              "      <td>6330.0</td>\n",
              "      <td>NaN</td>\n",
              "      <td>16000</td>\n",
              "      <td>2014-02-06</td>\n",
              "      <td>15.0</td>\n",
              "      <td>Space Systems/Loral</td>\n",
              "      <td>USA</td>\n",
              "      <td>Guiana Space Center</td>\n",
              "      <td>Ariane 5 ECA</td>\n",
              "      <td>2014-006A</td>\n",
              "      <td>39508</td>\n",
              "      <td>32 C-band, 51 Ku-band, and 6 Ka-band transpond...</td>\n",
              "    </tr>\n",
              "    <tr>\n",
              "      <th>...</th>\n",
              "      <td>...</td>\n",
              "      <td>...</td>\n",
              "      <td>...</td>\n",
              "      <td>...</td>\n",
              "      <td>...</td>\n",
              "      <td>...</td>\n",
              "      <td>...</td>\n",
              "      <td>...</td>\n",
              "      <td>...</td>\n",
              "      <td>...</td>\n",
              "      <td>...</td>\n",
              "      <td>...</td>\n",
              "      <td>...</td>\n",
              "      <td>...</td>\n",
              "      <td>...</td>\n",
              "      <td>...</td>\n",
              "      <td>...</td>\n",
              "      <td>...</td>\n",
              "      <td>...</td>\n",
              "      <td>...</td>\n",
              "      <td>...</td>\n",
              "      <td>...</td>\n",
              "      <td>...</td>\n",
              "      <td>...</td>\n",
              "      <td>...</td>\n",
              "      <td>...</td>\n",
              "      <td>...</td>\n",
              "      <td>...</td>\n",
              "      <td>...</td>\n",
              "      <td>...</td>\n",
              "      <td>...</td>\n",
              "      <td>...</td>\n",
              "      <td>...</td>\n",
              "      <td>...</td>\n",
              "      <td>...</td>\n",
              "      <td>...</td>\n",
              "      <td>...</td>\n",
              "      <td>...</td>\n",
              "      <td>...</td>\n",
              "      <td>...</td>\n",
              "      <td>...</td>\n",
              "      <td>...</td>\n",
              "      <td>...</td>\n",
              "    </tr>\n",
              "    <tr>\n",
              "      <th>3481</th>\n",
              "      <td>3481</td>\n",
              "      <td>60944.0</td>\n",
              "      <td>Zi Yuan 1-2D</td>\n",
              "      <td>44528.0</td>\n",
              "      <td>2019-059A</td>\n",
              "      <td>Payload</td>\n",
              "      <td>1840.0</td>\n",
              "      <td>Box + 1 Pan</td>\n",
              "      <td>2.0</td>\n",
              "      <td>1.8</td>\n",
              "      <td>9.0</td>\n",
              "      <td>NaN</td>\n",
              "      <td>17.994800</td>\n",
              "      <td>3.60</td>\n",
              "      <td>9.469300</td>\n",
              "      <td>Ziyuan 1-2D</td>\n",
              "      <td>Ziyuan 1-2D</td>\n",
              "      <td>NR</td>\n",
              "      <td>China</td>\n",
              "      <td>China Centre for Resources Satellite Data and ...</td>\n",
              "      <td>Government</td>\n",
              "      <td>Earth Observation</td>\n",
              "      <td>Hyperspectral Imaging</td>\n",
              "      <td>LEO</td>\n",
              "      <td>Sun-Synchronous</td>\n",
              "      <td>0.0</td>\n",
              "      <td>748</td>\n",
              "      <td>758</td>\n",
              "      <td>0.000702</td>\n",
              "      <td>98.50</td>\n",
              "      <td>99.80</td>\n",
              "      <td>2650.0</td>\n",
              "      <td>NaN</td>\n",
              "      <td>NaN</td>\n",
              "      <td>2019-09-14</td>\n",
              "      <td>5.0</td>\n",
              "      <td>China Academy of Space Technology (CAST)</td>\n",
              "      <td>China</td>\n",
              "      <td>Taiyuan Launch Center</td>\n",
              "      <td>Long March 4B</td>\n",
              "      <td>2019-059A</td>\n",
              "      <td>44528</td>\n",
              "      <td>Hyperspectral imaging</td>\n",
              "    </tr>\n",
              "    <tr>\n",
              "      <th>3482</th>\n",
              "      <td>3482</td>\n",
              "      <td>38043.0</td>\n",
              "      <td>Zi Yuan 3</td>\n",
              "      <td>38046.0</td>\n",
              "      <td>2012-001A</td>\n",
              "      <td>Payload</td>\n",
              "      <td>2650.0</td>\n",
              "      <td>Box + 2 Pan</td>\n",
              "      <td>2.0</td>\n",
              "      <td>2.0</td>\n",
              "      <td>10.0</td>\n",
              "      <td>NaN</td>\n",
              "      <td>19.728493</td>\n",
              "      <td>4.00</td>\n",
              "      <td>10.304000</td>\n",
              "      <td>Ziyuan 3 (ZY-3)</td>\n",
              "      <td>Ziyuan 3</td>\n",
              "      <td>China</td>\n",
              "      <td>China</td>\n",
              "      <td>China Centre for Resources Satellite Data and ...</td>\n",
              "      <td>Government</td>\n",
              "      <td>Earth Observation</td>\n",
              "      <td>Optical Imaging</td>\n",
              "      <td>LEO</td>\n",
              "      <td>Sun-Synchronous</td>\n",
              "      <td>0.0</td>\n",
              "      <td>500</td>\n",
              "      <td>504</td>\n",
              "      <td>0.000291</td>\n",
              "      <td>97.50</td>\n",
              "      <td>94.70</td>\n",
              "      <td>2650.0</td>\n",
              "      <td>NaN</td>\n",
              "      <td>NaN</td>\n",
              "      <td>2012-01-09</td>\n",
              "      <td>4.0</td>\n",
              "      <td>China Academy of Space Technology (CAST)</td>\n",
              "      <td>China</td>\n",
              "      <td>Taiyuan Launch Center</td>\n",
              "      <td>Long March 4B</td>\n",
              "      <td>2012-001A</td>\n",
              "      <td>38046</td>\n",
              "      <td>Land survey satellite.</td>\n",
              "    </tr>\n",
              "    <tr>\n",
              "      <th>3483</th>\n",
              "      <td>3483</td>\n",
              "      <td>41553.0</td>\n",
              "      <td>Zi Yuan 3-2</td>\n",
              "      <td>41556.0</td>\n",
              "      <td>2016-033A</td>\n",
              "      <td>Payload</td>\n",
              "      <td>2650.0</td>\n",
              "      <td>Box + 2 Pan</td>\n",
              "      <td>2.0</td>\n",
              "      <td>2.0</td>\n",
              "      <td>10.0</td>\n",
              "      <td>NaN</td>\n",
              "      <td>19.728493</td>\n",
              "      <td>4.00</td>\n",
              "      <td>10.304000</td>\n",
              "      <td>Ziyuan 3-2</td>\n",
              "      <td>Ziyuan 3-2</td>\n",
              "      <td>China</td>\n",
              "      <td>China</td>\n",
              "      <td>China Centre for Resources Satellite Data and ...</td>\n",
              "      <td>Government</td>\n",
              "      <td>Earth Observation</td>\n",
              "      <td>Optical Imaging</td>\n",
              "      <td>LEO</td>\n",
              "      <td>Sun-Synchronous</td>\n",
              "      <td>0.0</td>\n",
              "      <td>487</td>\n",
              "      <td>500</td>\n",
              "      <td>0.000947</td>\n",
              "      <td>97.50</td>\n",
              "      <td>94.49</td>\n",
              "      <td>2630.0</td>\n",
              "      <td>NaN</td>\n",
              "      <td>NaN</td>\n",
              "      <td>2016-05-29</td>\n",
              "      <td>4.0</td>\n",
              "      <td>China Academy of Space Technology (CAST)</td>\n",
              "      <td>China</td>\n",
              "      <td>Taiyuan Launch Center</td>\n",
              "      <td>Long March 4B</td>\n",
              "      <td>2016-033A</td>\n",
              "      <td>41556</td>\n",
              "      <td>Thought to be for intelligence gathering.</td>\n",
              "    </tr>\n",
              "    <tr>\n",
              "      <th>3484</th>\n",
              "      <td>3484</td>\n",
              "      <td>41553.0</td>\n",
              "      <td>Zi Yuan 3-2</td>\n",
              "      <td>41556.0</td>\n",
              "      <td>2016-033A</td>\n",
              "      <td>Payload</td>\n",
              "      <td>2650.0</td>\n",
              "      <td>Box + 2 Pan</td>\n",
              "      <td>2.0</td>\n",
              "      <td>2.0</td>\n",
              "      <td>10.0</td>\n",
              "      <td>NaN</td>\n",
              "      <td>19.728493</td>\n",
              "      <td>4.00</td>\n",
              "      <td>10.304000</td>\n",
              "      <td>Ziyuan 3-2</td>\n",
              "      <td>Ziyuan 3-2</td>\n",
              "      <td>China</td>\n",
              "      <td>China</td>\n",
              "      <td>China Centre for Resources Satellite Data and ...</td>\n",
              "      <td>Government</td>\n",
              "      <td>Earth Observation</td>\n",
              "      <td>Optical Imaging</td>\n",
              "      <td>LEO</td>\n",
              "      <td>Sun-Synchronous</td>\n",
              "      <td>0.0</td>\n",
              "      <td>487</td>\n",
              "      <td>500</td>\n",
              "      <td>0.000947</td>\n",
              "      <td>97.50</td>\n",
              "      <td>94.49</td>\n",
              "      <td>2630.0</td>\n",
              "      <td>NaN</td>\n",
              "      <td>NaN</td>\n",
              "      <td>2016-05-29</td>\n",
              "      <td>4.0</td>\n",
              "      <td>China Academy of Space Technology (CAST)</td>\n",
              "      <td>China</td>\n",
              "      <td>Taiyuan Launch Center</td>\n",
              "      <td>Long March 4B</td>\n",
              "      <td>2016-033A</td>\n",
              "      <td>41556</td>\n",
              "      <td>Thought to be for intelligence gathering.</td>\n",
              "    </tr>\n",
              "    <tr>\n",
              "      <th>3485</th>\n",
              "      <td>3485</td>\n",
              "      <td>63815.0</td>\n",
              "      <td>Zi Yuan 3-3</td>\n",
              "      <td>45939.0</td>\n",
              "      <td>2020-051A</td>\n",
              "      <td>Payload</td>\n",
              "      <td>2400.0</td>\n",
              "      <td>Box + 2 Pan</td>\n",
              "      <td>2.0</td>\n",
              "      <td>2.0</td>\n",
              "      <td>10.0</td>\n",
              "      <td>NaN</td>\n",
              "      <td>19.728500</td>\n",
              "      <td>4.00</td>\n",
              "      <td>10.304000</td>\n",
              "      <td>Ziyuan 3-3</td>\n",
              "      <td>Ziyuan 3-3</td>\n",
              "      <td>NR (12/20)</td>\n",
              "      <td>China</td>\n",
              "      <td>China Centre for Resources Satellite Data and ...</td>\n",
              "      <td>Government</td>\n",
              "      <td>Earth Observation</td>\n",
              "      <td>Optical Imaging</td>\n",
              "      <td>LEO</td>\n",
              "      <td>Sun-Synchronous</td>\n",
              "      <td>0.0</td>\n",
              "      <td>487</td>\n",
              "      <td>499</td>\n",
              "      <td>0.000874</td>\n",
              "      <td>97.50</td>\n",
              "      <td>94.50</td>\n",
              "      <td>2630.0</td>\n",
              "      <td>NaN</td>\n",
              "      <td>NaN</td>\n",
              "      <td>2020-07-25</td>\n",
              "      <td>NaN</td>\n",
              "      <td>China Academy of Space Technology (CAST)</td>\n",
              "      <td>China</td>\n",
              "      <td>Taiyuan Launch Center</td>\n",
              "      <td>Long March 4B</td>\n",
              "      <td>2020-051A</td>\n",
              "      <td>45939</td>\n",
              "      <td>Land survey satellite. Provide data for the co...</td>\n",
              "    </tr>\n",
              "  </tbody>\n",
              "</table>\n",
              "<p>3486 rows × 43 columns</p>\n",
              "</div>"
            ],
            "text/plain": [
              "      Unnamed: 0  ...                                           Comments\n",
              "0              0  ...  Pathfinder for planned earth observation const...\n",
              "1              1  ...                                     Student built.\n",
              "2              2  ...              Technology development and education.\n",
              "3              3  ...                                Carries AIS system.\n",
              "4              4  ...  32 C-band, 51 Ku-band, and 6 Ka-band transpond...\n",
              "...          ...  ...                                                ...\n",
              "3481        3481  ...                              Hyperspectral imaging\n",
              "3482        3482  ...                             Land survey satellite.\n",
              "3483        3483  ...          Thought to be for intelligence gathering.\n",
              "3484        3484  ...          Thought to be for intelligence gathering.\n",
              "3485        3485  ...  Land survey satellite. Provide data for the co...\n",
              "\n",
              "[3486 rows x 43 columns]"
            ]
          },
          "metadata": {
            "tags": []
          },
          "execution_count": 68
        }
      ]
    },
    {
      "cell_type": "code",
      "metadata": {
        "id": "QuNFCnMxNfiB"
      },
      "source": [
        "DF_UCS_global['Launch Site'].value_counts()"
      ],
      "execution_count": null,
      "outputs": []
    },
    {
      "cell_type": "code",
      "metadata": {
        "id": "udTRAZ2qOSE5"
      },
      "source": [
        "DF_UCS_global['re-entry epoch'].value_counts()"
      ],
      "execution_count": null,
      "outputs": []
    },
    {
      "cell_type": "code",
      "metadata": {
        "colab": {
          "base_uri": "https://localhost:8080/"
        },
        "id": "6r4eQD55PluB",
        "outputId": "03db2875-81a5-4e77-e8bb-0970b06703a6"
      },
      "source": [
        "DF_UCS_global['Country/Org of UN Registry'].value_counts()\n",
        "\n",
        "DF_UCS_global['Country of Operator/Owner'].value_counts()\n",
        "\n",
        "DF_UCS_global['Expected Lifetime (yrs.)'].value_counts()"
      ],
      "execution_count": null,
      "outputs": [
        {
          "output_type": "execute_result",
          "data": {
            "text/plain": [
              "15.00    434\n",
              "4.00     318\n",
              "5.00     300\n",
              "12.00     91\n",
              "8.00      84\n",
              "10.00     81\n",
              "7.00      79\n",
              "3.00      74\n",
              "2.00      40\n",
              "1.00      25\n",
              "14.00     19\n",
              "13.00     13\n",
              "18.00     10\n",
              "11.00      7\n",
              "20.00      6\n",
              "16.00      6\n",
              "9.00       5\n",
              "0.50       5\n",
              "6.00       4\n",
              "1.50       3\n",
              "0.25       3\n",
              "7.25       2\n",
              "12.50      1\n",
              "17.00      1\n",
              "30.00      1\n",
              "14.50      1\n",
              "25.00      1\n",
              "2.50       1\n",
              "4.50       1\n",
              "Name: Expected Lifetime (yrs.), dtype: int64"
            ]
          },
          "metadata": {
            "tags": []
          },
          "execution_count": 76
        }
      ]
    }
  ]
}